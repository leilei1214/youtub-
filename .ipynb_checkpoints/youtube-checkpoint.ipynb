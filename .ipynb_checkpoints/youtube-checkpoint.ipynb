{
 "cells": [
  {
   "cell_type": "code",
   "execution_count": 173,
   "id": "77a59510-9075-422a-84be-a552639e6827",
   "metadata": {},
   "outputs": [
    {
     "name": "stdout",
     "output_type": "stream",
     "text": [
      "/watch?v=o9xmNAlhdYU\n"
     ]
    }
   ],
   "source": [
    "import re\n",
    "import requests,json\n",
    "from bs4 import BeautifulSoup\n",
    "\n",
    "string = \"周杰倫\";\n",
    "\n",
    "url = \"https://www.youtube.com/results?search_query=\" + string\n",
    "res = requests.get(url)\n",
    "soup = BeautifulSoup(res.text,'html.parser')\n",
    "soup = soup.find_all(\"script\")\n",
    "soup = str(soup[32])\n",
    "content = soup.split(\"var ytInitialData = \")[1]\n",
    "content = content.rsplit(\";\",1)[0]\n",
    "s = json.loads(content)\n",
    "s =s[\"contents\"][\"twoColumnSearchResultsRenderer\"][\"primaryContents\"][\"sectionListRenderer\"][\"contents\"][0][\"itemSectionRenderer\"][\"contents\"]\n",
    "title=s[0][\"videoRenderer\"][\"title\"][\"runs\"][0][\"text\"]\n",
    "href = s[0][\"videoRenderer\"][\"navigationEndpoint\"][\"commandMetadata\"][\"webCommandMetadata\"][\"url\"]\n",
    "# <script nonce=\"YAAclmU+d/V+aBQwPHI8rg\n",
    "print(href)\n"
   ]
  },
  {
   "cell_type": "code",
   "execution_count": null,
   "id": "a5bc2cbc-5161-421e-bf3e-83e8ba1b7990",
   "metadata": {},
   "outputs": [],
   "source": []
  },
  {
   "cell_type": "code",
   "execution_count": null,
   "id": "51d7deb1-999f-46bf-ad22-0a3b82ffe86b",
   "metadata": {},
   "outputs": [],
   "source": []
  }
 ],
 "metadata": {
  "kernelspec": {
   "display_name": "Python 3",
   "language": "python",
   "name": "python3"
  },
  "language_info": {
   "codemirror_mode": {
    "name": "ipython",
    "version": 3
   },
   "file_extension": ".py",
   "mimetype": "text/x-python",
   "name": "python",
   "nbconvert_exporter": "python",
   "pygments_lexer": "ipython3",
   "version": "3.9.2"
  }
 },
 "nbformat": 4,
 "nbformat_minor": 5
}
