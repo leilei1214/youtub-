{
 "cells": [
  {
   "cell_type": "code",
   "execution_count": 25,
   "id": "99cee35c-a7f6-417f-9c68-b4604fc48edf",
   "metadata": {},
   "outputs": [
    {
     "name": "stderr",
     "output_type": "stream",
     "text": [
      "<ipython-input-25-4dab383ddeac>:6: DeprecationWarning: use options instead of chrome_options\n",
      "  driver = webdriver.Chrome(chrome_options=options, executable_path=path)\n"
     ]
    },
    {
     "name": "stdout",
     "output_type": "stream",
     "text": [
      "https://www.airbare.com.tw/flights/list?tripType=1&fromCity=TPE&toCity=TYO&fromDate=2022-07-01&retDate=&cabinClass=2&fromCityType=1&toCityType=1&currencyCode=TWD&adult=1&child=0&infant=0&isDirectFlight=false\n"
     ]
    },
    {
     "ename": "WebDriverException",
     "evalue": "Message: unknown error: net::ERR_INTERNET_DISCONNECTED\n  (Session info: chrome=92.0.4515.159)\n",
     "output_type": "error",
     "traceback": [
      "\u001b[1;31m---------------------------------------------------------------------------\u001b[0m",
      "\u001b[1;31mWebDriverException\u001b[0m                        Traceback (most recent call last)",
      "\u001b[1;32m<ipython-input-25-4dab383ddeac>\u001b[0m in \u001b[0;36m<module>\u001b[1;34m\u001b[0m\n\u001b[0;32m     10\u001b[0m     \u001b[0murl\u001b[0m\u001b[1;33m=\u001b[0m\u001b[1;34m'https://www.airbare.com.tw/flights/list?tripType=1&fromCity=TPE&toCity=TYO&fromDate=2022-07-0'\u001b[0m\u001b[1;33m+\u001b[0m\u001b[0mstr\u001b[0m\u001b[1;33m(\u001b[0m\u001b[0mdate\u001b[0m\u001b[1;33m)\u001b[0m\u001b[1;33m+\u001b[0m\u001b[1;34m'&retDate=&cabinClass=2&fromCityType=1&toCityType=1&currencyCode=TWD&adult=1&child=0&infant=0&isDirectFlight=false'\u001b[0m\u001b[1;33m\u001b[0m\u001b[1;33m\u001b[0m\u001b[0m\n\u001b[0;32m     11\u001b[0m     \u001b[0mprint\u001b[0m\u001b[1;33m(\u001b[0m\u001b[0murl\u001b[0m\u001b[1;33m)\u001b[0m\u001b[1;33m\u001b[0m\u001b[1;33m\u001b[0m\u001b[0m\n\u001b[1;32m---> 12\u001b[1;33m     \u001b[0mdriver\u001b[0m\u001b[1;33m.\u001b[0m\u001b[0mget\u001b[0m\u001b[1;33m(\u001b[0m\u001b[0murl\u001b[0m\u001b[1;33m)\u001b[0m\u001b[1;33m\u001b[0m\u001b[1;33m\u001b[0m\u001b[0m\n\u001b[0m\u001b[0;32m     13\u001b[0m     \u001b[0mtime\u001b[0m\u001b[1;33m.\u001b[0m\u001b[0msleep\u001b[0m\u001b[1;33m(\u001b[0m\u001b[1;36m20\u001b[0m\u001b[1;33m)\u001b[0m\u001b[1;33m\u001b[0m\u001b[1;33m\u001b[0m\u001b[0m\n\u001b[0;32m     14\u001b[0m     \u001b[0msoup\u001b[0m \u001b[1;33m=\u001b[0m \u001b[0mBeautifulSoup\u001b[0m\u001b[1;33m(\u001b[0m\u001b[0mdriver\u001b[0m\u001b[1;33m.\u001b[0m\u001b[0mpage_source\u001b[0m\u001b[1;33m,\u001b[0m\u001b[1;34m'html.parser'\u001b[0m\u001b[1;33m)\u001b[0m\u001b[1;33m\u001b[0m\u001b[1;33m\u001b[0m\u001b[0m\n",
      "\u001b[1;32mc:\\python39\\lib\\site-packages\\selenium\\webdriver\\remote\\webdriver.py\u001b[0m in \u001b[0;36mget\u001b[1;34m(self, url)\u001b[0m\n\u001b[0;32m    331\u001b[0m         \u001b[0mLoads\u001b[0m \u001b[0ma\u001b[0m \u001b[0mweb\u001b[0m \u001b[0mpage\u001b[0m \u001b[1;32min\u001b[0m \u001b[0mthe\u001b[0m \u001b[0mcurrent\u001b[0m \u001b[0mbrowser\u001b[0m \u001b[0msession\u001b[0m\u001b[1;33m.\u001b[0m\u001b[1;33m\u001b[0m\u001b[1;33m\u001b[0m\u001b[0m\n\u001b[0;32m    332\u001b[0m         \"\"\"\n\u001b[1;32m--> 333\u001b[1;33m         \u001b[0mself\u001b[0m\u001b[1;33m.\u001b[0m\u001b[0mexecute\u001b[0m\u001b[1;33m(\u001b[0m\u001b[0mCommand\u001b[0m\u001b[1;33m.\u001b[0m\u001b[0mGET\u001b[0m\u001b[1;33m,\u001b[0m \u001b[1;33m{\u001b[0m\u001b[1;34m'url'\u001b[0m\u001b[1;33m:\u001b[0m \u001b[0murl\u001b[0m\u001b[1;33m}\u001b[0m\u001b[1;33m)\u001b[0m\u001b[1;33m\u001b[0m\u001b[1;33m\u001b[0m\u001b[0m\n\u001b[0m\u001b[0;32m    334\u001b[0m \u001b[1;33m\u001b[0m\u001b[0m\n\u001b[0;32m    335\u001b[0m     \u001b[1;33m@\u001b[0m\u001b[0mproperty\u001b[0m\u001b[1;33m\u001b[0m\u001b[1;33m\u001b[0m\u001b[0m\n",
      "\u001b[1;32mc:\\python39\\lib\\site-packages\\selenium\\webdriver\\remote\\webdriver.py\u001b[0m in \u001b[0;36mexecute\u001b[1;34m(self, driver_command, params)\u001b[0m\n\u001b[0;32m    319\u001b[0m         \u001b[0mresponse\u001b[0m \u001b[1;33m=\u001b[0m \u001b[0mself\u001b[0m\u001b[1;33m.\u001b[0m\u001b[0mcommand_executor\u001b[0m\u001b[1;33m.\u001b[0m\u001b[0mexecute\u001b[0m\u001b[1;33m(\u001b[0m\u001b[0mdriver_command\u001b[0m\u001b[1;33m,\u001b[0m \u001b[0mparams\u001b[0m\u001b[1;33m)\u001b[0m\u001b[1;33m\u001b[0m\u001b[1;33m\u001b[0m\u001b[0m\n\u001b[0;32m    320\u001b[0m         \u001b[1;32mif\u001b[0m \u001b[0mresponse\u001b[0m\u001b[1;33m:\u001b[0m\u001b[1;33m\u001b[0m\u001b[1;33m\u001b[0m\u001b[0m\n\u001b[1;32m--> 321\u001b[1;33m             \u001b[0mself\u001b[0m\u001b[1;33m.\u001b[0m\u001b[0merror_handler\u001b[0m\u001b[1;33m.\u001b[0m\u001b[0mcheck_response\u001b[0m\u001b[1;33m(\u001b[0m\u001b[0mresponse\u001b[0m\u001b[1;33m)\u001b[0m\u001b[1;33m\u001b[0m\u001b[1;33m\u001b[0m\u001b[0m\n\u001b[0m\u001b[0;32m    322\u001b[0m             response['value'] = self._unwrap_value(\n\u001b[0;32m    323\u001b[0m                 response.get('value', None))\n",
      "\u001b[1;32mc:\\python39\\lib\\site-packages\\selenium\\webdriver\\remote\\errorhandler.py\u001b[0m in \u001b[0;36mcheck_response\u001b[1;34m(self, response)\u001b[0m\n\u001b[0;32m    240\u001b[0m                 \u001b[0malert_text\u001b[0m \u001b[1;33m=\u001b[0m \u001b[0mvalue\u001b[0m\u001b[1;33m[\u001b[0m\u001b[1;34m'alert'\u001b[0m\u001b[1;33m]\u001b[0m\u001b[1;33m.\u001b[0m\u001b[0mget\u001b[0m\u001b[1;33m(\u001b[0m\u001b[1;34m'text'\u001b[0m\u001b[1;33m)\u001b[0m\u001b[1;33m\u001b[0m\u001b[1;33m\u001b[0m\u001b[0m\n\u001b[0;32m    241\u001b[0m             \u001b[1;32mraise\u001b[0m \u001b[0mexception_class\u001b[0m\u001b[1;33m(\u001b[0m\u001b[0mmessage\u001b[0m\u001b[1;33m,\u001b[0m \u001b[0mscreen\u001b[0m\u001b[1;33m,\u001b[0m \u001b[0mstacktrace\u001b[0m\u001b[1;33m,\u001b[0m \u001b[0malert_text\u001b[0m\u001b[1;33m)\u001b[0m\u001b[1;33m\u001b[0m\u001b[1;33m\u001b[0m\u001b[0m\n\u001b[1;32m--> 242\u001b[1;33m         \u001b[1;32mraise\u001b[0m \u001b[0mexception_class\u001b[0m\u001b[1;33m(\u001b[0m\u001b[0mmessage\u001b[0m\u001b[1;33m,\u001b[0m \u001b[0mscreen\u001b[0m\u001b[1;33m,\u001b[0m \u001b[0mstacktrace\u001b[0m\u001b[1;33m)\u001b[0m\u001b[1;33m\u001b[0m\u001b[1;33m\u001b[0m\u001b[0m\n\u001b[0m\u001b[0;32m    243\u001b[0m \u001b[1;33m\u001b[0m\u001b[0m\n\u001b[0;32m    244\u001b[0m     \u001b[1;32mdef\u001b[0m \u001b[0m_value_or_default\u001b[0m\u001b[1;33m(\u001b[0m\u001b[0mself\u001b[0m\u001b[1;33m,\u001b[0m \u001b[0mobj\u001b[0m\u001b[1;33m,\u001b[0m \u001b[0mkey\u001b[0m\u001b[1;33m,\u001b[0m \u001b[0mdefault\u001b[0m\u001b[1;33m)\u001b[0m\u001b[1;33m:\u001b[0m\u001b[1;33m\u001b[0m\u001b[1;33m\u001b[0m\u001b[0m\n",
      "\u001b[1;31mWebDriverException\u001b[0m: Message: unknown error: net::ERR_INTERNET_DISCONNECTED\n  (Session info: chrome=92.0.4515.159)\n"
     ]
    }
   ],
   "source": [
    "from bs4 import BeautifulSoup\n",
    "import time,json\n",
    "from selenium import webdriver\n",
    "path = './chromedriver'\n",
    "options = webdriver.ChromeOptions()\n",
    "driver = webdriver.Chrome(chrome_options=options, executable_path=path)\n",
    "js=[]\n",
    "result={}\n",
    "for date in range (1,10):\n",
    "    url='https://www.airbare.com.tw/flights/list?tripType=1&fromCity=TPE&toCity=TYO&fromDate=2022-07-0'+str(date)+'&retDate=&cabinClass=2&fromCityType=1&toCityType=1&currencyCode=TWD&adult=1&child=0&infant=0&isDirectFlight=false'\n",
    "    print(url)\n",
    "    driver.get(url)\n",
    "    time.sleep(20)\n",
    "    soup = BeautifulSoup(driver.page_source,'html.parser')\n",
    "#         time.sleep(7)\n",
    "#         soup = BeautifulSoup(driver.page_source,'html.parser')\n",
    "#     except:\n",
    "#         continue;\n",
    "    body = soup.select(\"body\")\n",
    "    try:\n",
    "        content = body[0].find_all(\"div\",class_=\"padding\")\n",
    "    except:\n",
    "        continue;\n",
    "    建議 = content[0]\n",
    "    result[\"建議\"]={}\n",
    "    result[\"建議\"][0]=建議.h4.text\n",
    "    x = 建議.find(\"div\",class_=\"price\").text\n",
    "    result[\"建議\"][1] = x.split(\"NT\")[1]\n",
    "    result[\"建議\"][2] = 建議.find(\"div\",class_=\"stop\").text\n",
    "    最便宜 = content[1]\n",
    "    result[\"最便宜\"]={}\n",
    "    result[\"最便宜\"][0]=最便宜.h4.text\n",
    "    x = 最便宜.find(\"div\",class_=\"price\").text\n",
    "    result[\"最便宜\"][1] =x.split(\"NT\")[1]\n",
    "    result[\"最便宜\"][2] = 最便宜.find(\"div\",class_=\"stop\").text\n",
    "    最快 =content[2]\n",
    "    result[\"最快\"]={}\n",
    "    result[\"最快\"][0]=最快.h4.text\n",
    "    x = 最快.find(\"div\",class_=\"price\").text\n",
    "    result[\"最快\"][1] = x.split(\"NT\")[1]\n",
    "    result[\"最快\"][2] = 最快.find(\"div\",class_=\"stop\").text\n",
    "    js.append(result)\n",
    "driver.quit()\n",
    "print(js)\n",
    "# class=appFlightListDate"
   ]
  },
  {
   "cell_type": "code",
   "execution_count": 23,
   "id": "58d8ad9f-8503-44f0-aa2d-1716d2a106c3",
   "metadata": {},
   "outputs": [
    {
     "name": "stdout",
     "output_type": "stream",
     "text": [
      "$ 13,846 \n"
     ]
    }
   ],
   "source": [
    "# js=[]\n",
    "# result={}\n",
    "# content = body[0].find_all(\"div\",class_=\"padding\")\n",
    "# 建議 = content[0]\n",
    "# result[\"建議\"]={}\n",
    "# result[\"建議\"][0]=建議.h4.text\n",
    "x='\\n              NT$ 20,727 '\n",
    "x = 建議.find(\"div\",class_=\"price\").text\n",
    "x = x.split(\"NT\")[1]\n",
    "# result[\"建議\"][2] = 建議.find(\"div\",class_=\"stop\").text\n",
    "# 最便宜 = content[1]\n",
    "# result[\"最便宜\"]={}\n",
    "# result[\"最便宜\"][0]=最便宜.h4.text\n",
    "# result[\"最便宜\"][1] = 最便宜.find(\"div\",class_=\"price\").text\n",
    "# result[\"最便宜\"][2] = 最便宜.find(\"div\",class_=\"stop\").text\n",
    "# 最快 =content[2]\n",
    "# result[\"最快\"]={}\n",
    "# result[\"最快\"][0]=最快.h4.text\n",
    "# result[\"最快\"][1] = 最快.find(\"div\",class_=\"price\").text\n",
    "# result[\"最快\"][2] = 最快.find(\"div\",class_=\"stop\").text\n",
    "# js.append(result)\n",
    "print(x)"
   ]
  },
  {
   "cell_type": "code",
   "execution_count": null,
   "id": "5e0f8f4c-1802-4c2d-9690-cd89df8fce9d",
   "metadata": {},
   "outputs": [],
   "source": []
  },
  {
   "cell_type": "code",
   "execution_count": null,
   "id": "f50358a2-d69e-4909-9d86-bcc744e74a24",
   "metadata": {},
   "outputs": [],
   "source": []
  }
 ],
 "metadata": {
  "kernelspec": {
   "display_name": "Python 3",
   "language": "python",
   "name": "python3"
  },
  "language_info": {
   "codemirror_mode": {
    "name": "ipython",
    "version": 3
   },
   "file_extension": ".py",
   "mimetype": "text/x-python",
   "name": "python",
   "nbconvert_exporter": "python",
   "pygments_lexer": "ipython3",
   "version": "3.9.2"
  }
 },
 "nbformat": 4,
 "nbformat_minor": 5
}
